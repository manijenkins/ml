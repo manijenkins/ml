{
  "nbformat": 4,
  "nbformat_minor": 0,
  "metadata": {
    "kernelspec": {
      "display_name": "Python 3",
      "language": "python",
      "name": "python3"
    },
    "language_info": {
      "codemirror_mode": {
        "name": "ipython",
        "version": 3
      },
      "file_extension": ".py",
      "mimetype": "text/x-python",
      "name": "python",
      "nbconvert_exporter": "python",
      "pygments_lexer": "ipython3",
      "version": "3.7.4"
    },
    "colab": {
      "name": "ML_GROUP038_Abhishek.ipynb",
      "provenance": [],
      "collapsed_sections": [],
      "include_colab_link": true
    }
  },
  "cells": [
    {
      "cell_type": "markdown",
      "metadata": {
        "id": "view-in-github",
        "colab_type": "text"
      },
      "source": [
        "<a href=\"https://colab.research.google.com/github/manijenkins/ml/blob/develop/ML_GROUP038_Abhishek.ipynb\" target=\"_parent\"><img src=\"https://colab.research.google.com/assets/colab-badge.svg\" alt=\"Open In Colab\"/></a>"
      ]
    },
    {
      "cell_type": "code",
      "metadata": {
        "id": "fGfFGN8kBRml",
        "colab_type": "code",
        "colab": {}
      },
      "source": [
        "# Drop-Based Learning Rate Decay\n",
        "import pandas\n",
        "from pandas import read_csv\n",
        "import numpy\n",
        "import math\n",
        "from keras.models import Sequential\n",
        "from keras.layers import Dense\n",
        "from keras.optimizers import SGD\n",
        "from sklearn.preprocessing import LabelEncoder\n",
        "from keras.callbacks import LearningRateScheduler\n"
      ],
      "execution_count": 0,
      "outputs": []
    },
    {
      "cell_type": "code",
      "metadata": {
        "id": "4AE24DKBBRms",
        "colab_type": "code",
        "colab": {}
      },
      "source": [
        "# learning rate schedule\n",
        "def step_decay(epoch):\n",
        "    initial_lrate = 0.1\n",
        "    drop = 0.5\n",
        "    epochs_drop = 10.0\n",
        "    lrate = initial_lrate * math.pow(drop, math.floor((1+epoch)/epochs_drop))\n",
        "    return lrate"
      ],
      "execution_count": 0,
      "outputs": []
    },
    {
      "cell_type": "code",
      "metadata": {
        "id": "i0B-HvVvBRmw",
        "colab_type": "code",
        "colab": {}
      },
      "source": [
        "# fix random seed for reproducibility\n",
        "seed = 7\n",
        "numpy.random.seed(seed)"
      ],
      "execution_count": 0,
      "outputs": []
    },
    {
      "cell_type": "code",
      "metadata": {
        "id": "27zPpDlIBRmz",
        "colab_type": "code",
        "colab": {}
      },
      "source": [
        "# load dataset\n",
        "dataframe = read_csv(\"/Users/abhishekdey/Downloads/ionosphere.csv\", header=None)\n",
        "dataset = dataframe.values"
      ],
      "execution_count": 0,
      "outputs": []
    },
    {
      "cell_type": "code",
      "metadata": {
        "id": "m-wno_8PBRm2",
        "colab_type": "code",
        "colab": {}
      },
      "source": [
        "# split into input (X) and output (Y) variables\n",
        "X = dataset[:,0:34].astype(float)\n",
        "Y = dataset[:,34]"
      ],
      "execution_count": 0,
      "outputs": []
    },
    {
      "cell_type": "code",
      "metadata": {
        "id": "2Nstz_KQBRm6",
        "colab_type": "code",
        "colab": {}
      },
      "source": [
        "# encode class values as integers\n",
        "encoder = LabelEncoder()\n",
        "encoder.fit(Y)\n",
        "Y = encoder.transform(Y)"
      ],
      "execution_count": 0,
      "outputs": []
    },
    {
      "cell_type": "code",
      "metadata": {
        "id": "A68ne03OBRm-",
        "colab_type": "code",
        "colab": {}
      },
      "source": [
        "# create model\n",
        "model = Sequential()\n",
        "model.add(Dense(34, input_dim=34, kernel_initializer='normal', activation='relu'))\n",
        "model.add(Dense(1, kernel_initializer='normal', activation='sigmoid'))"
      ],
      "execution_count": 0,
      "outputs": []
    },
    {
      "cell_type": "code",
      "metadata": {
        "id": "VOIfhjgoBRnB",
        "colab_type": "code",
        "colab": {}
      },
      "source": [
        "# Compile model\n",
        "sgd = SGD(lr=0.0, momentum=0.9, decay=0.0, nesterov=False)\n",
        "model.compile(loss='binary_crossentropy', optimizer=sgd, metrics=['accuracy'])"
      ],
      "execution_count": 0,
      "outputs": []
    },
    {
      "cell_type": "code",
      "metadata": {
        "id": "SeNDE80yBRnE",
        "colab_type": "code",
        "colab": {}
      },
      "source": [
        "# learning schedule callback\n",
        "lrate = LearningRateScheduler(step_decay)\n",
        "callbacks_list = [lrate]"
      ],
      "execution_count": 0,
      "outputs": []
    },
    {
      "cell_type": "code",
      "metadata": {
        "id": "UaifPgS4BRnH",
        "colab_type": "code",
        "outputId": "4c81b42b-c84f-4b63-ffe1-d9705cf93468",
        "colab": {}
      },
      "source": [
        "# Fit the model\n",
        "model.fit(X, Y, validation_split=0.33, epochs=50, batch_size=28, callbacks=callbacks_list,\n",
        "verbose=2)"
      ],
      "execution_count": 0,
      "outputs": [
        {
          "output_type": "stream",
          "text": [
            "Train on 235 samples, validate on 116 samples\n",
            "Epoch 1/50\n",
            " - 0s - loss: 0.6893 - accuracy: 0.5191 - val_loss: 0.6410 - val_accuracy: 0.9224\n",
            "Epoch 2/50\n",
            " - 0s - loss: 0.6423 - accuracy: 0.7191 - val_loss: 0.5022 - val_accuracy: 0.8707\n",
            "Epoch 3/50\n",
            " - 0s - loss: 0.5391 - accuracy: 0.8170 - val_loss: 0.4360 - val_accuracy: 0.9310\n",
            "Epoch 4/50\n",
            " - 0s - loss: 0.4005 - accuracy: 0.8511 - val_loss: 0.3851 - val_accuracy: 0.8707\n",
            "Epoch 5/50\n",
            " - 0s - loss: 0.3000 - accuracy: 0.8766 - val_loss: 0.1740 - val_accuracy: 0.9569\n",
            "Epoch 6/50\n",
            " - 0s - loss: 0.2250 - accuracy: 0.9191 - val_loss: 0.2534 - val_accuracy: 0.9138\n",
            "Epoch 7/50\n",
            " - 0s - loss: 0.1807 - accuracy: 0.9362 - val_loss: 0.1539 - val_accuracy: 0.9655\n",
            "Epoch 8/50\n",
            " - 0s - loss: 0.1621 - accuracy: 0.9404 - val_loss: 0.0945 - val_accuracy: 0.9741\n",
            "Epoch 9/50\n",
            " - 0s - loss: 0.1782 - accuracy: 0.9489 - val_loss: 0.1400 - val_accuracy: 0.9569\n",
            "Epoch 10/50\n",
            " - 0s - loss: 0.1293 - accuracy: 0.9532 - val_loss: 0.1068 - val_accuracy: 0.9741\n",
            "Epoch 11/50\n",
            " - 0s - loss: 0.1180 - accuracy: 0.9574 - val_loss: 0.1058 - val_accuracy: 0.9828\n",
            "Epoch 12/50\n",
            " - 0s - loss: 0.1072 - accuracy: 0.9702 - val_loss: 0.0900 - val_accuracy: 0.9828\n",
            "Epoch 13/50\n",
            " - 0s - loss: 0.1115 - accuracy: 0.9617 - val_loss: 0.1074 - val_accuracy: 0.9741\n",
            "Epoch 14/50\n",
            " - 0s - loss: 0.1010 - accuracy: 0.9745 - val_loss: 0.0873 - val_accuracy: 0.9828\n",
            "Epoch 15/50\n",
            " - 0s - loss: 0.0962 - accuracy: 0.9702 - val_loss: 0.0852 - val_accuracy: 0.9828\n",
            "Epoch 16/50\n",
            " - 0s - loss: 0.0997 - accuracy: 0.9702 - val_loss: 0.0934 - val_accuracy: 0.9828\n",
            "Epoch 17/50\n",
            " - 0s - loss: 0.0896 - accuracy: 0.9660 - val_loss: 0.0955 - val_accuracy: 0.9741\n",
            "Epoch 18/50\n",
            " - 0s - loss: 0.0830 - accuracy: 0.9745 - val_loss: 0.0802 - val_accuracy: 0.9828\n",
            "Epoch 19/50\n",
            " - 0s - loss: 0.0797 - accuracy: 0.9745 - val_loss: 0.0858 - val_accuracy: 0.9828\n",
            "Epoch 20/50\n",
            " - 0s - loss: 0.0787 - accuracy: 0.9787 - val_loss: 0.0700 - val_accuracy: 0.9828\n",
            "Epoch 21/50\n",
            " - 0s - loss: 0.0773 - accuracy: 0.9787 - val_loss: 0.0933 - val_accuracy: 0.9741\n",
            "Epoch 22/50\n",
            " - 0s - loss: 0.0731 - accuracy: 0.9830 - val_loss: 0.0773 - val_accuracy: 0.9828\n",
            "Epoch 23/50\n",
            " - 0s - loss: 0.0721 - accuracy: 0.9787 - val_loss: 0.0732 - val_accuracy: 0.9828\n",
            "Epoch 24/50\n",
            " - 0s - loss: 0.0703 - accuracy: 0.9830 - val_loss: 0.0838 - val_accuracy: 0.9828\n",
            "Epoch 25/50\n",
            " - 0s - loss: 0.0683 - accuracy: 0.9830 - val_loss: 0.0733 - val_accuracy: 0.9828\n",
            "Epoch 26/50\n",
            " - 0s - loss: 0.0678 - accuracy: 0.9830 - val_loss: 0.0811 - val_accuracy: 0.9914\n",
            "Epoch 27/50\n",
            " - 0s - loss: 0.0644 - accuracy: 0.9830 - val_loss: 0.0734 - val_accuracy: 0.9828\n",
            "Epoch 28/50\n",
            " - 0s - loss: 0.0648 - accuracy: 0.9830 - val_loss: 0.0762 - val_accuracy: 0.9828\n",
            "Epoch 29/50\n",
            " - 0s - loss: 0.0629 - accuracy: 0.9830 - val_loss: 0.0773 - val_accuracy: 0.9828\n",
            "Epoch 30/50\n",
            " - 0s - loss: 0.0620 - accuracy: 0.9830 - val_loss: 0.0712 - val_accuracy: 0.9828\n",
            "Epoch 31/50\n",
            " - 0s - loss: 0.0614 - accuracy: 0.9830 - val_loss: 0.0759 - val_accuracy: 0.9828\n",
            "Epoch 32/50\n",
            " - 0s - loss: 0.0605 - accuracy: 0.9830 - val_loss: 0.0759 - val_accuracy: 0.9828\n",
            "Epoch 33/50\n",
            " - 0s - loss: 0.0595 - accuracy: 0.9830 - val_loss: 0.0726 - val_accuracy: 0.9828\n",
            "Epoch 34/50\n",
            " - 0s - loss: 0.0599 - accuracy: 0.9830 - val_loss: 0.0729 - val_accuracy: 0.9828\n",
            "Epoch 35/50\n",
            " - 0s - loss: 0.0597 - accuracy: 0.9830 - val_loss: 0.0788 - val_accuracy: 0.9828\n",
            "Epoch 36/50\n",
            " - 0s - loss: 0.0579 - accuracy: 0.9872 - val_loss: 0.0738 - val_accuracy: 0.9828\n",
            "Epoch 37/50\n",
            " - 0s - loss: 0.0577 - accuracy: 0.9830 - val_loss: 0.0711 - val_accuracy: 0.9828\n",
            "Epoch 38/50\n",
            " - 0s - loss: 0.0577 - accuracy: 0.9830 - val_loss: 0.0738 - val_accuracy: 0.9828\n",
            "Epoch 39/50\n",
            " - 0s - loss: 0.0572 - accuracy: 0.9830 - val_loss: 0.0687 - val_accuracy: 0.9828\n",
            "Epoch 40/50\n",
            " - 0s - loss: 0.0563 - accuracy: 0.9830 - val_loss: 0.0704 - val_accuracy: 0.9828\n",
            "Epoch 41/50\n",
            " - 0s - loss: 0.0556 - accuracy: 0.9872 - val_loss: 0.0746 - val_accuracy: 0.9828\n",
            "Epoch 42/50\n",
            " - 0s - loss: 0.0557 - accuracy: 0.9872 - val_loss: 0.0731 - val_accuracy: 0.9828\n",
            "Epoch 43/50\n",
            " - 0s - loss: 0.0556 - accuracy: 0.9872 - val_loss: 0.0716 - val_accuracy: 0.9828\n",
            "Epoch 44/50\n",
            " - 0s - loss: 0.0554 - accuracy: 0.9872 - val_loss: 0.0715 - val_accuracy: 0.9828\n",
            "Epoch 45/50\n",
            " - 0s - loss: 0.0553 - accuracy: 0.9830 - val_loss: 0.0691 - val_accuracy: 0.9828\n",
            "Epoch 46/50\n",
            " - 0s - loss: 0.0550 - accuracy: 0.9830 - val_loss: 0.0696 - val_accuracy: 0.9828\n",
            "Epoch 47/50\n",
            " - 0s - loss: 0.0557 - accuracy: 0.9872 - val_loss: 0.0739 - val_accuracy: 0.9828\n",
            "Epoch 48/50\n",
            " - 0s - loss: 0.0544 - accuracy: 0.9872 - val_loss: 0.0725 - val_accuracy: 0.9828\n",
            "Epoch 49/50\n",
            " - 0s - loss: 0.0545 - accuracy: 0.9872 - val_loss: 0.0682 - val_accuracy: 0.9828\n",
            "Epoch 50/50\n",
            " - 0s - loss: 0.0541 - accuracy: 0.9872 - val_loss: 0.0719 - val_accuracy: 0.9828\n"
          ],
          "name": "stdout"
        },
        {
          "output_type": "execute_result",
          "data": {
            "text/plain": [
              "<keras.callbacks.callbacks.History at 0x147f31150>"
            ]
          },
          "metadata": {
            "tags": []
          },
          "execution_count": 21
        }
      ]
    },
    {
      "cell_type": "code",
      "metadata": {
        "id": "wYv4rXKOBRnM",
        "colab_type": "code",
        "colab": {}
      },
      "source": [
        ""
      ],
      "execution_count": 0,
      "outputs": []
    }
  ]
}